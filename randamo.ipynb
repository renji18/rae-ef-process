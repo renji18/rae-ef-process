{
 "cells": [
  {
   "cell_type": "code",
   "execution_count": 1,
   "metadata": {},
   "outputs": [],
   "source": [
    "import pandas as pd\n",
    "import numpy as np"
   ]
  },
  {
   "cell_type": "code",
   "execution_count": 2,
   "metadata": {},
   "outputs": [],
   "source": [
    "size = 30\n",
    "file = './data/random_' + str(size) + '.xlsx'\n",
    "df = pd.read_excel(file)"
   ]
  },
  {
   "cell_type": "code",
   "execution_count": 3,
   "metadata": {},
   "outputs": [],
   "source": [
    "\n",
    "df = df.drop(columns=['ans'])\n",
    "min_values = df.min()\n",
    "max_values = df.max()"
   ]
  },
  {
   "cell_type": "code",
   "execution_count": 4,
   "metadata": {},
   "outputs": [],
   "source": [
    "\n",
    "def generate_random_dataset(size, min_vals, max_vals):\n",
    "    random_data = {}\n",
    "    for col in min_vals.index:\n",
    "        random_data[col] = np.random.uniform(low=min_vals[col], high=max_vals[col], size=size)\n",
    "    return pd.DataFrame(random_data)"
   ]
  },
  {
   "cell_type": "code",
   "execution_count": 5,
   "metadata": {},
   "outputs": [],
   "source": [
    "\n",
    "sizes = [1000, 5000, 10000]"
   ]
  },
  {
   "cell_type": "code",
   "execution_count": 6,
   "metadata": {},
   "outputs": [
    {
     "name": "stdout",
     "output_type": "stream",
     "text": [
      "Dataset of size 1000 saved to random_1000.xlsx\n",
      "Dataset of size 5000 saved to random_5000.xlsx\n",
      "Dataset of size 10000 saved to random_10000.xlsx\n"
     ]
    }
   ],
   "source": [
    "for size in sizes:\n",
    "    random_df = generate_random_dataset(size, min_values, max_values)\n",
    "    output_file = f'random_{size}.xlsx'\n",
    "    random_df.to_excel('./data/' + output_file, index=False)\n",
    "    print(f'Dataset of size {size} saved to {output_file}')"
   ]
  }
 ],
 "metadata": {
  "kernelspec": {
   "display_name": "base",
   "language": "python",
   "name": "python3"
  },
  "language_info": {
   "codemirror_mode": {
    "name": "ipython",
    "version": 3
   },
   "file_extension": ".py",
   "mimetype": "text/x-python",
   "name": "python",
   "nbconvert_exporter": "python",
   "pygments_lexer": "ipython3",
   "version": "3.12.4"
  }
 },
 "nbformat": 4,
 "nbformat_minor": 2
}
