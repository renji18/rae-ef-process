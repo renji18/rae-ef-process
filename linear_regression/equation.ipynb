{
 "cells": [
  {
   "cell_type": "code",
   "execution_count": 28,
   "metadata": {},
   "outputs": [],
   "source": [
    "import pandas as pd\n",
    "from sklearn.linear_model import LinearRegression\n",
    "from sklearn.metrics import mean_squared_error\n",
    "import numpy as np"
   ]
  },
  {
   "cell_type": "code",
   "execution_count": 29,
   "metadata": {},
   "outputs": [],
   "source": [
    "file_path = '../data/original.xlsx' \n",
    "df = pd.read_excel(file_path)"
   ]
  },
  {
   "cell_type": "code",
   "execution_count": 30,
   "metadata": {},
   "outputs": [],
   "source": [
    "X = df[['x1', 'x2', 'x3', 'x4']]\n",
    "y = df['ans']"
   ]
  },
  {
   "cell_type": "code",
   "execution_count": 31,
   "metadata": {},
   "outputs": [],
   "source": [
    "model = LinearRegression()\n",
    "\n",
    "model.fit(X, y)\n",
    "\n",
    "coefficients = model.coef_\n",
    "intercept = model.intercept_\n",
    "\n",
    "y_pred = model.predict(X)\n",
    "mse = mean_squared_error(y, y_pred)\n",
    "rmse = np.sqrt(mse)"
   ]
  },
  {
   "cell_type": "code",
   "execution_count": 32,
   "metadata": {},
   "outputs": [
    {
     "name": "stdout",
     "output_type": "stream",
     "text": [
      "The equation for the model is:\n",
      "ans = (1.58 * x1) + (0.09 * x2) + (0.02 * x3) + (0.32 * x4) + 16.01\n"
     ]
    }
   ],
   "source": [
    "print(\"The equation for the model is:\")\n",
    "equation = f\"ans = ({coefficients[0]:.2f} * x1) + ({coefficients[1]:.2f} * x2) + ({coefficients[2]:.2f} * x3) + ({coefficients[3]:.2f} * x4) + {intercept:.2f}\"\n",
    "print(equation)\n",
    "weight = 0.23"
   ]
  },
  {
   "cell_type": "code",
   "execution_count": 33,
   "metadata": {},
   "outputs": [
    {
     "name": "stdout",
     "output_type": "stream",
     "text": [
      "Root Mean Squared Error (RMSE), that is, the amount of deviation from the correct answer in the equation is: 5.01\n"
     ]
    }
   ],
   "source": [
    "print(f\"Root Mean Squared Error (RMSE), that is, the amount of deviation from the correct answer in the equation is: {rmse:.2f}\")"
   ]
  },
  {
   "cell_type": "code",
   "execution_count": 34,
   "metadata": {},
   "outputs": [
    {
     "name": "stdout",
     "output_type": "stream",
     "text": [
      "Thus the final equation becomes:\n",
      "(ans = (1.58 * x1) + (0.09 * x2) + (0.02 * x3) + (0.32 * x4) + 16.01 + 5.01)\n",
      "and\n",
      "(ans = (1.58 * x1) + (0.09 * x2) + (0.02 * x3) + (0.32 * x4) + 16.01 - 5.01)\n"
     ]
    }
   ],
   "source": [
    "print(f\"Thus the final equation becomes:\\n({equation} + {rmse:.2f})\\nand\\n({equation} - {rmse:.2f})\")"
   ]
  },
  {
   "cell_type": "code",
   "execution_count": 35,
   "metadata": {},
   "outputs": [],
   "source": [
    "def predict_ans_with_range(x1, x2, x3, x4):\n",
    "    predicted_ans = coefficients[0] * x1 + coefficients[1] * x2 + coefficients[2] * x3 + coefficients[3] * x4 + intercept + weight\n",
    "    lower_bound = predicted_ans - rmse\n",
    "    upper_bound = predicted_ans + rmse\n",
    "    return predicted_ans, lower_bound, upper_bound\n",
    "\n",
    "with open('predict.py', 'w') as f:\n",
    "    f.write('def predict(x1, x2, x3, x4):\\n')\n",
    "    f.write('    return (1.58 * x1) + (0.09 * x2) + (0.02 * x3) + (0.32 * x4) + 16.01')"
   ]
  },
  {
   "cell_type": "code",
   "execution_count": 36,
   "metadata": {},
   "outputs": [
    {
     "name": "stdout",
     "output_type": "stream",
     "text": [
      "Predicted ans for input [3, 230.76, 150, 60]: 65.05\n"
     ]
    }
   ],
   "source": [
    "# example_input = [3.16,\t307.39,\t145.78,\t77.23]\n",
    "example_input = [3\t,230.76\t,150,\t60]\n",
    "predicted_ans, lower_bound, upper_bound = predict_ans_with_range(*example_input)\n",
    "print(f\"Predicted ans for input {example_input}: {predicted_ans:.2f}\")\n",
    "# print(f\"Predicted range for ans: [{lower_bound:.2f}, {upper_bound:.2f}]\")"
   ]
  }
 ],
 "metadata": {
  "kernelspec": {
   "display_name": "base",
   "language": "python",
   "name": "python3"
  },
  "language_info": {
   "codemirror_mode": {
    "name": "ipython",
    "version": 3
   },
   "file_extension": ".py",
   "mimetype": "text/x-python",
   "name": "python",
   "nbconvert_exporter": "python",
   "pygments_lexer": "ipython3",
   "version": "3.12.4"
  }
 },
 "nbformat": 4,
 "nbformat_minor": 2
}
