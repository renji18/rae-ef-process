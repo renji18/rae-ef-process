{
 "cells": [
  {
   "cell_type": "code",
   "execution_count": 4,
   "metadata": {},
   "outputs": [],
   "source": [
    "import pandas as pd\n",
    "from predict import predict"
   ]
  },
  {
   "cell_type": "code",
   "execution_count": 5,
   "metadata": {},
   "outputs": [],
   "source": [
    "size = 1000\n",
    "file = '../data/random_' + str(size) + '.xlsx'\n",
    "df = pd.read_excel(file)"
   ]
  },
  {
   "cell_type": "code",
   "execution_count": 6,
   "metadata": {},
   "outputs": [
    {
     "name": "stdout",
     "output_type": "stream",
     "text": [
      "           x1          x2          x3         x4  predicted_output\n",
      "782  2.815440  384.197670  238.739609  97.299926         90.946953\n",
      "541  3.434174  377.296473  151.041931  98.424172         89.909252\n",
      "829  4.663623  350.010025  245.032230  94.141343         89.905301\n",
      "647  4.799241  356.058416  101.401494  99.829669         89.611582\n",
      "213  4.718422  370.578242  122.808243  92.765117         88.958151\n"
     ]
    }
   ],
   "source": [
    "df['predicted_output'] = df.apply(lambda row: predict(row['x1'], row['x2'], row['x3'], row['x4']), axis=1)\n",
    "\n",
    "# with pd.ExcelWriter(file, mode='a', engine='openpyxl', if_sheet_exists='replace') as writer:\n",
    "#     df.to_excel(writer, index=False)\n",
    "df_sorted = df.sort_values(by='predicted_output', ascending=False)\n",
    "print(df_sorted.head())"
   ]
  }
 ],
 "metadata": {
  "kernelspec": {
   "display_name": "base",
   "language": "python",
   "name": "python3"
  },
  "language_info": {
   "codemirror_mode": {
    "name": "ipython",
    "version": 3
   },
   "file_extension": ".py",
   "mimetype": "text/x-python",
   "name": "python",
   "nbconvert_exporter": "python",
   "pygments_lexer": "ipython3",
   "version": "3.12.4"
  }
 },
 "nbformat": 4,
 "nbformat_minor": 2
}
