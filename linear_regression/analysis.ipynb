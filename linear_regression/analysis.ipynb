{
 "cells": [
  {
   "cell_type": "code",
   "execution_count": 1,
   "metadata": {},
   "outputs": [],
   "source": [
    "import pandas as pd\n",
    "from predict import predict"
   ]
  },
  {
   "cell_type": "code",
   "execution_count": 2,
   "metadata": {},
   "outputs": [],
   "source": [
    "size = 10000\n",
    "file = '../data/random_' + str(size) + '.xlsx'\n",
    "df = pd.read_excel(file)"
   ]
  },
  {
   "cell_type": "code",
   "execution_count": 3,
   "metadata": {},
   "outputs": [
    {
     "name": "stdout",
     "output_type": "stream",
     "text": [
      "            x1          x2          x3         x4  predicted_output_lr\n",
      "1896  4.986059  384.545892  218.787006  95.058814            93.291665\n",
      "9508  4.997595  380.073791  172.937806  97.497048            92.770653\n",
      "2730  4.906412  379.428857  186.678790  95.469137            92.194428\n",
      "5146  4.975061  382.071873  138.039586  97.159119            92.108775\n",
      "7738  4.955315  350.794868  232.513565  98.530829            91.591073\n"
     ]
    }
   ],
   "source": [
    "df['predicted_output_lr'] = df.apply(lambda row: predict(row['x1'], row['x2'], row['x3'], row['x4']), axis=1)\n",
    "\n",
    "with pd.ExcelWriter(file, mode='a', engine='openpyxl', if_sheet_exists='replace') as writer:\n",
    "    df.to_excel(writer, index=False)\n",
    "\n",
    "    \n",
    "df_sorted = df.sort_values(by='predicted_output_lr', ascending=False)\n",
    "print(df_sorted.head())"
   ]
  }
 ],
 "metadata": {
  "kernelspec": {
   "display_name": "base",
   "language": "python",
   "name": "python3"
  },
  "language_info": {
   "codemirror_mode": {
    "name": "ipython",
    "version": 3
   },
   "file_extension": ".py",
   "mimetype": "text/x-python",
   "name": "python",
   "nbconvert_exporter": "python",
   "pygments_lexer": "ipython3",
   "version": "3.12.4"
  }
 },
 "nbformat": 4,
 "nbformat_minor": 2
}
