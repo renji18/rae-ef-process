{
 "cells": [
  {
   "cell_type": "code",
   "execution_count": 1,
   "metadata": {},
   "outputs": [],
   "source": [
    "import pandas as pd\n",
    "import joblib"
   ]
  },
  {
   "cell_type": "code",
   "execution_count": 2,
   "metadata": {},
   "outputs": [],
   "source": [
    "model = joblib.load('./random_forest_model.pkl')"
   ]
  },
  {
   "cell_type": "code",
   "execution_count": 3,
   "metadata": {},
   "outputs": [],
   "source": [
    "size = 10000\n",
    "file = '../data/random_' + str(size) + '.xlsx'\n",
    "# file = '../data/graphs.xlsx'\n",
    "df = pd.read_excel(file)"
   ]
  },
  {
   "cell_type": "code",
   "execution_count": 4,
   "metadata": {},
   "outputs": [
    {
     "name": "stdout",
     "output_type": "stream",
     "text": [
      "   x1      x2   x3  x4  actual    ccd  linear_regression\n",
      "0   2  153.84  100  40   48.66  46.93              48.78\n",
      "1   4  153.84  100  40   56.00  51.76              51.93\n",
      "2   2  307.68  100  40   61.10  58.17              62.99\n",
      "3   4  307.68  100  40   65.10  61.44              66.14\n",
      "4   2  153.84  200  40   52.80  49.33              51.23\n"
     ]
    }
   ],
   "source": [
    "print(df.head())"
   ]
  },
  {
   "cell_type": "code",
   "execution_count": 5,
   "metadata": {},
   "outputs": [
    {
     "name": "stdout",
     "output_type": "stream",
     "text": [
      "    x1      x2   x3   x4  actual    ccd  linear_regression  random_forest\n",
      "19   3  384.60  150   60   76.95  76.49              79.26      75.224233\n",
      "15   4  307.68  200   80   79.85  79.46              81.32      74.823445\n",
      "11   4  307.68  100   80   75.98  76.96              78.86      73.949663\n",
      "14   2  307.68  200   80   76.25  77.99              78.16      72.857586\n",
      "23   3  230.76  150  100   76.16  72.11              77.77      71.764699\n",
      "17   5  230.76  150   60   59.12  64.72              68.20      71.379511\n",
      "21   3  230.76  250   60   71.18  71.90              67.50      71.235730\n",
      "10   2  307.68  100   80   73.01  75.18              75.71      71.210500\n",
      "28   3  230.76  150   60   71.18  71.41              65.05      71.198693\n",
      "27   3  230.76  150   60   71.21  71.41              65.05      71.198693\n",
      "26   3  230.76  150   60   71.00  71.41              65.05      71.198693\n",
      "25   3  230.76  150   60   71.44  71.41              65.05      71.198693\n",
      "24   3  230.76  150   60   71.36  71.41              65.05      71.198693\n",
      "29   3  230.76  150   60   72.25  71.41              65.05      71.198693\n",
      "7    4  307.68  200   40   70.05  67.98              68.60      68.929904\n",
      "3    4  307.68  100   40   65.10  61.44              66.14      65.593500\n",
      "20   3  230.76   50   60   63.10  67.00              62.59      65.560837\n",
      "6    2  307.68  200   40   64.56  65.01              65.44      65.006664\n",
      "16   1  230.76  150   60   59.39  58.41              61.89      62.214029\n",
      "2    2  307.68  100   40   61.10  58.17              62.99      61.985700\n",
      "13   4  153.84  200   80   61.85  62.29              67.10      60.380505\n",
      "9    4  153.84  100   80   66.80  64.23              64.65      58.061800\n",
      "5    4  153.84  200   40   58.15  53.86              54.38      57.106500\n",
      "12   2  153.84  200   80   57.70  59.24              63.95      56.088100\n",
      "1    4  153.84  100   40   56.00  51.76              51.93      54.434300\n",
      "8    2  153.84  100   80   61.30  60.88              61.50      53.457000\n",
      "4    2  153.84  200   40   52.80  49.33              51.23      53.071300\n",
      "0    2  153.84  100   40   48.66  46.93              48.78      50.221400\n",
      "22   3  230.76  150   20   38.00  46.67              52.33      48.057248\n",
      "18   3   76.92  150   60   43.00  48.07              50.83      47.688171\n"
     ]
    }
   ],
   "source": [
    "df['random_forest'] = df.apply(\n",
    "    lambda row: model.predict(pd.DataFrame([[row['x1'], row['x2'], row['x3'], row['x4']]], columns=['x1', 'x2', 'x3', 'x4']))[0], axis=1\n",
    ")\n",
    "\n",
    "\n",
    "with pd.ExcelWriter(file, mode='a', engine='openpyxl', if_sheet_exists='replace') as writer:\n",
    "    df.to_excel(writer, index=False)\n",
    "\n",
    "\n",
    "df_sorted = df.sort_values(by='random_forest', ascending=False)\n",
    "\n",
    "pd.set_option('display.max_rows', 1000)\n",
    "print(df_sorted)"
   ]
  }
 ],
 "metadata": {
  "kernelspec": {
   "display_name": "base",
   "language": "python",
   "name": "python3"
  },
  "language_info": {
   "codemirror_mode": {
    "name": "ipython",
    "version": 3
   },
   "file_extension": ".py",
   "mimetype": "text/x-python",
   "name": "python",
   "nbconvert_exporter": "python",
   "pygments_lexer": "ipython3",
   "version": "3.12.4"
  }
 },
 "nbformat": 4,
 "nbformat_minor": 2
}
