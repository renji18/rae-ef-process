{
 "cells": [
  {
   "cell_type": "code",
   "execution_count": 11,
   "metadata": {},
   "outputs": [],
   "source": [
    "import pandas as pd\n",
    "import joblib"
   ]
  },
  {
   "cell_type": "code",
   "execution_count": 12,
   "metadata": {},
   "outputs": [],
   "source": [
    "model = joblib.load('./random_forest_model.pkl')"
   ]
  },
  {
   "cell_type": "code",
   "execution_count": 13,
   "metadata": {},
   "outputs": [],
   "source": [
    "size = 10000\n",
    "file = '../data/random_' + str(size) + '.xlsx'\n",
    "df = pd.read_excel(file)"
   ]
  },
  {
   "cell_type": "code",
   "execution_count": 14,
   "metadata": {},
   "outputs": [
    {
     "name": "stdout",
     "output_type": "stream",
     "text": [
      "         x1          x2          x3         x4  predicted_output_lr\n",
      "0  2.212092  284.640600  166.459008  77.205002            73.157540\n",
      "1  4.254041   91.057605  167.746138  77.438703            59.061877\n",
      "2  3.802777   97.757156  224.198318  98.962135            66.968381\n",
      "3  1.608669  181.286976  199.758943  34.764305            49.987281\n",
      "4  4.592930  164.892223  220.608152  73.410258            66.010575\n"
     ]
    }
   ],
   "source": [
    "print(df.head())"
   ]
  },
  {
   "cell_type": "code",
   "execution_count": 15,
   "metadata": {},
   "outputs": [
    {
     "name": "stdout",
     "output_type": "stream",
     "text": [
      "            x1          x2          x3         x4  predicted_output_lr  \\\n",
      "172   4.803742  369.008781  153.425655  86.764054            87.643713   \n",
      "7440  4.674355  372.698768  160.733353  77.934078            85.091942   \n",
      "3805  3.631888  367.077775  157.256683  73.141587            81.335824   \n",
      "3916  4.898917  366.473332  150.471855  94.716408            90.051576   \n",
      "1812  4.865108  366.280543  157.345350  80.149762            85.456950   \n",
      "...        ...         ...         ...        ...                  ...   \n",
      "1163  2.536420  103.801083  167.317052  27.892439            41.631563   \n",
      "6395  2.534001   98.626853  170.053480  24.602194            40.163910   \n",
      "9893  2.541460  101.538374   62.466372  22.063286            37.473539   \n",
      "8200  2.666926   79.252471   91.771342  25.324987            37.295889   \n",
      "1122  2.755330   94.440797  140.222132  28.297704            40.722801   \n",
      "\n",
      "      predicted_output_rf  \n",
      "172             75.768772  \n",
      "7440            75.768772  \n",
      "3805            75.768772  \n",
      "3916            75.768772  \n",
      "1812            75.768772  \n",
      "...                   ...  \n",
      "1163            43.123700  \n",
      "6395            43.123700  \n",
      "9893            42.935800  \n",
      "8200            42.684800  \n",
      "1122            42.515000  \n",
      "\n",
      "[10000 rows x 6 columns]\n"
     ]
    }
   ],
   "source": [
    "df['predicted_output_rf'] = df.apply(\n",
    "    lambda row: model.predict(pd.DataFrame([[row['x1'], row['x2'], row['x3'], row['x4']]], columns=['x1', 'x2', 'x3', 'x4']))[0], axis=1\n",
    ")\n",
    "\n",
    "\n",
    "with pd.ExcelWriter(file, mode='a', engine='openpyxl', if_sheet_exists='replace') as writer:\n",
    "    df.to_excel(writer, index=False)\n",
    "\n",
    "\n",
    "df_sorted = df.sort_values(by='predicted_output_rf', ascending=False)\n",
    "\n",
    "pd.set_option('display.max_rows', 1000)\n",
    "print(df_sorted)"
   ]
  }
 ],
 "metadata": {
  "kernelspec": {
   "display_name": "base",
   "language": "python",
   "name": "python3"
  },
  "language_info": {
   "codemirror_mode": {
    "name": "ipython",
    "version": 3
   },
   "file_extension": ".py",
   "mimetype": "text/x-python",
   "name": "python",
   "nbconvert_exporter": "python",
   "pygments_lexer": "ipython3",
   "version": "3.12.4"
  }
 },
 "nbformat": 4,
 "nbformat_minor": 2
}
